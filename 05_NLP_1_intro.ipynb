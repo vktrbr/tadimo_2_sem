{
 "nbformat": 4,
 "nbformat_minor": 0,
 "metadata": {
  "colab": {
   "name": "blank__05_NLP_1_intro.ipynb",
   "provenance": [],
   "collapsed_sections": [],
   "toc_visible": true,
   "authorship_tag": "ABX9TyMJ70DQQj2X/XaG2BMq6jy8"
  },
  "kernelspec": {
   "name": "python3",
   "display_name": "Python 3"
  },
  "language_info": {
   "name": "python"
  }
 },
 "cells": [
  {
   "cell_type": "code",
   "metadata": {
    "id": "XtFQP3RNll3c"
   },
   "source": [
    "from __future__ import annotations\n",
    "\n",
    "import re\n",
    "\n",
    "import nltk\n",
    "import numpy as np\n",
    "import pandas as pd\n",
    "import plotly.express as px\n",
    "import torch\n",
    "from nltk.stem import WordNetLemmatizer\n",
    "from nltk.tokenize import word_tokenize\n",
    "from sklearn.model_selection import train_test_split\n",
    "from torch.utils.data import Dataset, DataLoader\n",
    "from tqdm import tqdm"
   ],
   "execution_count": 66,
   "outputs": []
  },
  {
   "cell_type": "code",
   "metadata": {
    "colab": {
     "base_uri": "https://localhost:8080/"
    },
    "id": "443CZCLp0_sE",
    "executionInfo": {
     "status": "ok",
     "timestamp": 1618423490594,
     "user_tz": -180,
     "elapsed": 7026,
     "user": {
      "displayName": "Никита Блохин",
      "photoUrl": "",
      "userId": "16402972581398673009"
     }
    },
    "outputId": "ddda53b2-a593-4d13-ee48-cfed23e613b1"
   },
   "source": [
    "nltk.download('punkt')"
   ],
   "execution_count": 2,
   "outputs": [
    {
     "name": "stderr",
     "output_type": "stream",
     "text": [
      "[nltk_data] Downloading package punkt to\n",
      "[nltk_data]     /Users/victorbarbarich/nltk_data...\n",
      "[nltk_data]   Package punkt is already up-to-date!\n"
     ]
    },
    {
     "data": {
      "text/plain": "True"
     },
     "execution_count": 2,
     "metadata": {},
     "output_type": "execute_result"
    }
   ]
  },
  {
   "cell_type": "markdown",
   "metadata": {
    "id": "jqDHq_AEjRZ1"
   },
   "source": [
    "## 1. Представление и предобработка текстовых данных "
   ]
  },
  {
   "cell_type": "markdown",
   "metadata": {
    "id": "vaki7efDpmXo"
   },
   "source": [
    "1.1 Операции по предобработке:\n",
    "* токенизация\n",
    "* стемминг / лемматизация\n",
    "* удаление стоп-слов\n",
    "* удаление пунктуации\n",
    "* приведение к нижнему регистру\n",
    "* любые другие операции над текстом"
   ]
  },
  {
   "cell_type": "code",
   "metadata": {
    "id": "lMMzGhq0ikz1"
   },
   "source": [
    "text = 'Select your preferences and run the install command. Stable represents the most currently tested and supported version of PyTorch. Note that LibTorch is only available for C++'"
   ],
   "execution_count": 3,
   "outputs": []
  },
  {
   "cell_type": "markdown",
   "metadata": {
    "id": "bUhfertRtXE5"
   },
   "source": [
    "Реализовать функцию `preprocess_text(text: str)`, которая:\n",
    "* приводит строку к нижнему регистру\n",
    "* заменяет все символы, кроме a-z, A-Z и знаков .,!? на пробел\n"
   ]
  },
  {
   "cell_type": "code",
   "execution_count": 4,
   "outputs": [
    {
     "data": {
      "text/plain": "'select your preferences and run the install command. stable represents the most currently tested and supported version of pytorch. note that libtorch is only available for c  '"
     },
     "execution_count": 4,
     "metadata": {},
     "output_type": "execute_result"
    }
   ],
   "source": [
    "def preprocess_text(_text: str) -> str:\n",
    "    \"\"\"\n",
    "    Приводит строку к нижнему регистру и заменяет все символы, кроме a-z, A-Z и знаков .,!? на пробел\n",
    "    \"\"\"\n",
    "    pattern = re.compile(r'[^a-zA-Z,.?!]')\n",
    "    _text = _text.lower()\n",
    "    _text = re.sub(pattern, ' ', _text)\n",
    "    return _text\n",
    "\n",
    "\n",
    "preprocess_text(text)"
   ],
   "metadata": {
    "collapsed": false
   }
  },
  {
   "cell_type": "markdown",
   "metadata": {
    "id": "Z2Dt1ssIqckC"
   },
   "source": [
    "1.2 Представление текстовых данных при помощи бинарного кодирования\n",
    "\n",
    "\n",
    "Представить первое предложение из `text` в виде тензора `sentence_t`: `sentence_t[i] == 1`, если __слово__ с индексом `i` присуствует в предложении."
   ]
  },
  {
   "cell_type": "code",
   "execution_count": 5,
   "outputs": [
    {
     "name": "stdout",
     "output_type": "stream",
     "text": [
      "['select', 'only', 'stable', 'note', 'that', 'the', 'and', 'your', 'for', 'currently', 'of', 'install', 'command.', 'is', 'libtorch', 'most', 'tested', 'preferences', 'pytorch.', 'run', 'represents', 'version', 'c', 'supported', 'available']\n",
      "[0, 0, 0, 0, 1, 0, 0, 0, 0, 0, 0, 0, 0, 0, 0, 0, 0, 0, 0, 0, 1, 0, 0, 0, 0, 0, 0, 0, 0, 0, 0, 0, 0, 0, 0, 0, 0, 0, 0, 0, 0, 0, 0, 0, 1, 0, 0, 0, 0, 0, 0]\n"
     ]
    }
   ],
   "source": [
    "def get_binary_coded_arr(words: list[str], _word_bag: list[str]) -> list[int]:\n",
    "    \"\"\"\n",
    "    Возвращает массив из 0 или 1\n",
    "\n",
    "    :param words: слова из предложения\n",
    "    :param _word_bag: общий набор всех слов\n",
    "    :return: список из 0 и 1\n",
    "    \"\"\"\n",
    "\n",
    "    return [(word in _word_bag) * 1 for word in words]\n",
    "\n",
    "\n",
    "word_bag = list(set(preprocess_text(text).split()))\n",
    "sentence_1 = get_binary_coded_arr(text.split('.')[0], word_bag)\n",
    "\n",
    "print(word_bag)\n",
    "print(sentence_1)"
   ],
   "metadata": {
    "collapsed": false
   }
  },
  {
   "cell_type": "markdown",
   "metadata": {
    "id": "P2Nz_zcgw3N4"
   },
   "source": [
    "## 2. Классификация фамилий по национальности\n",
    "\n",
    "Датасет: https://disk.yandex.ru/d/owHew8hzPc7X9Q?w=1\n",
    "\n",
    "2.1 Считать файл `surnames/surnames.csv`. \n",
    "\n",
    "2.2 Закодировать национальности числами, начиная с 0.\n",
    "\n",
    "2.3 Разбить датасет на обучающую и тестовую выборку\n",
    "\n",
    "2.4 Реализовать класс `Vocab` (токен = __символ__)\n",
    "\n",
    "2.5 Реализовать класс `SurnamesDataset`\n",
    "\n",
    "2.6. Обучить классификатор.\n",
    "\n",
    "2.7 Измерить точность на тестовой выборке. Проверить работоспособность модели: прогнать несколько фамилий студентов группы через модели и проверить результат. Для каждой фамилии выводить 3 наиболее вероятных предсказания."
   ]
  },
  {
   "cell_type": "code",
   "execution_count": 6,
   "outputs": [
    {
     "data": {
      "text/plain": "    surname nationality\n0  Woodford     English\n1      Coté      French",
      "text/html": "<div>\n<style scoped>\n    .dataframe tbody tr th:only-of-type {\n        vertical-align: middle;\n    }\n\n    .dataframe tbody tr th {\n        vertical-align: top;\n    }\n\n    .dataframe thead th {\n        text-align: right;\n    }\n</style>\n<table border=\"1\" class=\"dataframe\">\n  <thead>\n    <tr style=\"text-align: right;\">\n      <th></th>\n      <th>surname</th>\n      <th>nationality</th>\n    </tr>\n  </thead>\n  <tbody>\n    <tr>\n      <th>0</th>\n      <td>Woodford</td>\n      <td>English</td>\n    </tr>\n    <tr>\n      <th>1</th>\n      <td>Coté</td>\n      <td>French</td>\n    </tr>\n  </tbody>\n</table>\n</div>"
     },
     "execution_count": 6,
     "metadata": {},
     "output_type": "execute_result"
    }
   ],
   "source": [
    "# 1\n",
    "surnames = pd.read_csv('data/surnames.csv')\n",
    "surnames.head(2)"
   ],
   "metadata": {
    "collapsed": false
   }
  },
  {
   "cell_type": "code",
   "execution_count": 7,
   "outputs": [],
   "source": [
    "# 2\n",
    "nationalities = surnames.nationality.unique()\n",
    "nationality_to_idx = dict(zip(nationalities, range(len(nationalities))))\n",
    "idx_to_nationalities = {v: u for u, v in nationality_to_idx.items()}"
   ],
   "metadata": {
    "collapsed": false
   }
  },
  {
   "cell_type": "code",
   "execution_count": 8,
   "outputs": [],
   "source": [
    "# 3\n",
    "surnames_train, surnames_test = train_test_split(surnames, test_size=0.2)"
   ],
   "metadata": {
    "collapsed": false
   }
  },
  {
   "cell_type": "code",
   "metadata": {
    "id": "kUkSZkDqxNYS"
   },
   "source": [
    "# 4\n",
    "class Vocab:\n",
    "    \"\"\"\n",
    "    Этот класс будет хранить все возможные буквы (символы) из фамилий\n",
    "    \"\"\"\n",
    "\n",
    "    def __init__(self, data: pd.DataFrame):\n",
    "        data = data[['surname']].drop_duplicates()  # оставляем уникальные фамилии\n",
    "\n",
    "        letters = data.surname.str.lower().str.split('').apply(lambda x: x[1:-1])  # разбиваем фамилии по буквам\n",
    "        letters = set(letters.sum())  # находим все буквы\n",
    "\n",
    "        self.idx_to_token = dict(zip(range(1, len(letters) + 1), letters))  # id - буква\n",
    "        self.idx_to_token[0] = ''\n",
    "\n",
    "        self.token_to_idx = dict(zip(letters, range(1, len(letters) + 1)))  # буква - id\n",
    "        self.token_to_idx[''] = 0\n",
    "\n",
    "        self.vocab_len = len(self.idx_to_token)\n",
    "\n",
    "\n",
    "vocab = Vocab(surnames)\n",
    "vocab.vocab_len, vocab.token_to_idx['z'], vocab.idx_to_token[1]"
   ],
   "execution_count": 9,
   "outputs": [
    {
     "data": {
      "text/plain": "(56, 29, \"'\")"
     },
     "execution_count": 9,
     "metadata": {},
     "output_type": "execute_result"
    }
   ]
  },
  {
   "cell_type": "code",
   "execution_count": 10,
   "outputs": [
    {
     "data": {
      "text/plain": "17"
     },
     "execution_count": 10,
     "metadata": {},
     "output_type": "execute_result"
    }
   ],
   "source": [
    "MAX_SURNAME_LEN = surnames.surname.str.len().max()\n",
    "MAX_SURNAME_LEN"
   ],
   "metadata": {
    "collapsed": false
   }
  },
  {
   "cell_type": "code",
   "metadata": {
    "id": "WCaRK1QHxe0A",
    "colab": {
     "base_uri": "https://localhost:8080/",
     "height": 229
    },
    "executionInfo": {
     "status": "error",
     "timestamp": 1619117849212,
     "user_tz": -180,
     "elapsed": 1303,
     "user": {
      "displayName": "Никита Блохин",
      "photoUrl": "",
      "userId": "16402972581398673009"
     }
    },
    "outputId": "5d1243af-d0dd-4922-9468-9618f5df4605"
   },
   "source": [
    "# 5\n",
    "class SurnamesDataset(Dataset):\n",
    "    def __init__(self, x, y, _vocab: Vocab):\n",
    "        self.x = x\n",
    "        self.y = y\n",
    "        self.vocab = _vocab\n",
    "\n",
    "    def vectorize(self, surname: str):\n",
    "        \"\"\" Генерирует представление фамилии surname в при помощи бинарного кодирования (см. 1.2) \"\"\"\n",
    "        output_vector = [0 for _ in range(MAX_SURNAME_LEN)]\n",
    "        surname = surname.lower()\n",
    "        for k in range(len(surname)):\n",
    "            output_vector[MAX_SURNAME_LEN - len(surname) + k] = self.vocab.token_to_idx[surname[k]]\n",
    "\n",
    "        return torch.FloatTensor(output_vector)\n",
    "\n",
    "    def __len__(self):\n",
    "        return len(self.x)\n",
    "\n",
    "    def __getitem__(self, idx):\n",
    "        return self.vectorize(self.x.iloc[idx]).long(), torch.tensor(nationality_to_idx[self.y.iloc[idx]])\n"
   ],
   "execution_count": 23,
   "outputs": []
  },
  {
   "cell_type": "code",
   "execution_count": 24,
   "outputs": [
    {
     "name": "stdout",
     "output_type": "stream",
     "text": [
      "tensor([ 0.,  0., 39., 45., 45., 24., 54., 45.,  7., 24.])\n",
      "10980 56\n",
      "tensor([ 0,  0,  0,  0,  0,  0,  0,  0,  0,  0,  0,  0,  0, 50, 45, 12, 44]) tensor(1) Coté\n"
     ]
    }
   ],
   "source": [
    "dataset_testing = SurnamesDataset(surnames.surname, surnames.nationality, Vocab(surnames))\n",
    "\n",
    "print(dataset_testing.vectorize('Woodford')[-10:])\n",
    "\n",
    "print(len(dataset_testing), dataset_testing.vocab.vocab_len)\n",
    "print(dataset_testing[1][0], dataset_testing[1][1], dataset_testing.x.iloc[1])"
   ],
   "metadata": {
    "collapsed": false
   }
  },
  {
   "cell_type": "code",
   "execution_count": 25,
   "outputs": [
    {
     "data": {
      "text/plain": "torch.Size([1, 18])"
     },
     "execution_count": 25,
     "metadata": {},
     "output_type": "execute_result"
    }
   ],
   "source": [
    "vocab_train_dataset = SurnamesDataset(surnames_train.surname, surnames_train.nationality, Vocab(surnames))\n",
    "vocab_test_dataset = SurnamesDataset(surnames_test.surname, surnames_test.nationality, Vocab(surnames))\n",
    "\n",
    "kernels = [MAX_SURNAME_LEN, 32, 32, 64, 64]\n",
    "convs = torch.nn.Sequential()\n",
    "for i in range(len(kernels) - 1):\n",
    "    convs.add_module(f'conv {i}', torch.nn.Conv1d(kernels[i], kernels[i + 1], 3))\n",
    "    convs.add_module(f'pooling {i}', torch.nn.MaxPool1d(2))\n",
    "    convs.add_module(f'func {i}', torch.nn.LeakyReLU(0.1))\n",
    "\n",
    "model = torch.nn.Sequential(\n",
    "    torch.nn.Embedding(vocab.vocab_len, 128),\n",
    "    convs,\n",
    "    torch.nn.Dropout(0.5),\n",
    "    torch.nn.Flatten(),\n",
    "    torch.nn.Linear(384, 512),\n",
    "    torch.nn.Dropout(0.5),\n",
    "    torch.nn.LeakyReLU(0.1),\n",
    "    torch.nn.Linear(512, len(nationality_to_idx))\n",
    ")\n",
    "\n",
    "model(next(iter(DataLoader(vocab_train_dataset)))[0]).shape"
   ],
   "metadata": {
    "collapsed": false
   }
  },
  {
   "cell_type": "code",
   "execution_count": 27,
   "outputs": [
    {
     "name": "stdout",
     "output_type": "stream",
     "text": [
      "EPOCH:   1 \t LOSS: 1.6220 \t VAL LOSS: 1.3925\n",
      "EPOCH:   6 \t LOSS: 1.0315 \t VAL LOSS: 1.0433\n",
      "EPOCH:  11 \t LOSS: 0.8726 \t VAL LOSS: 0.9364\n",
      "EPOCH:  16 \t LOSS: 0.7689 \t VAL LOSS: 0.8893\n",
      "EPOCH:  21 \t LOSS: 0.6882 \t VAL LOSS: 0.9400\n",
      "EPOCH:  26 \t LOSS: 0.6245 \t VAL LOSS: 0.9304\n",
      "EPOCH:  31 \t LOSS: 0.5588 \t VAL LOSS: 0.9430\n",
      "EPOCH:  36 \t LOSS: 0.5099 \t VAL LOSS: 1.0124\n"
     ]
    },
    {
     "data": {
      "text/plain": "<All keys matched successfully>"
     },
     "execution_count": 27,
     "metadata": {},
     "output_type": "execute_result"
    }
   ],
   "source": [
    "optimizer = torch.optim.Adam(model.parameters(), weight_decay=0.001)\n",
    "loss = torch.nn.CrossEntropyLoss()\n",
    "loss_log = []\n",
    "loss_log_val = []\n",
    "min_val_loss = 10 ** 10\n",
    "\n",
    "for i in range(10):\n",
    "    epoch_loss = 0\n",
    "    epoch_loss_val = 0\n",
    "\n",
    "    j, k = 1, 1  # Делители running losses\n",
    "\n",
    "    model.train()\n",
    "    for j, (batch_x, batch_y) in enumerate(DataLoader(vocab_train_dataset, batch_size=64, shuffle=True), 1):\n",
    "        y_pred = model(batch_x)\n",
    "        running_loss = loss(y_pred, batch_y)\n",
    "        epoch_loss += running_loss.item()\n",
    "\n",
    "        running_loss.backward()\n",
    "        optimizer.step()\n",
    "        optimizer.zero_grad()\n",
    "\n",
    "    model.eval()\n",
    "    for k, (batch_x, batch_y) in enumerate(DataLoader(vocab_test_dataset, batch_size=64), 1):\n",
    "        y_pred = model(batch_x)\n",
    "        running_loss = loss(y_pred, batch_y)\n",
    "        epoch_loss_val += running_loss.item()\n",
    "\n",
    "    epoch_loss /= j\n",
    "    epoch_loss_val /= k\n",
    "\n",
    "    if epoch_loss_val < min_val_loss:\n",
    "        torch.save(model.state_dict(), 'models/surname_model.pt')\n",
    "\n",
    "    if i % 5 == 0:\n",
    "        print(f'EPOCH: {i + 1:3d} \\t LOSS: {epoch_loss:0.4f} \\t VAL LOSS: {epoch_loss_val:0.4f}')\n",
    "\n",
    "    loss_log.append(epoch_loss)\n",
    "    loss_log_val.append(epoch_loss_val)\n",
    "\n",
    "model.load_state_dict(torch.load('models/surname_model.pt'))"
   ],
   "metadata": {
    "collapsed": false
   }
  },
  {
   "cell_type": "code",
   "execution_count": 28,
   "outputs": [
    {
     "data": {
      "image/png": "[encoded data removed]"
     },
     "metadata": {},
     "output_type": "display_data"
    }
   ],
   "source": [
    "px.line(pd.DataFrame({'train loss': loss_log, 'val loss': loss_log_val})).show(renderer='png', width=1000)"
   ],
   "metadata": {
    "collapsed": false
   }
  },
  {
   "cell_type": "code",
   "execution_count": 29,
   "outputs": [
    {
     "name": "stdout",
     "output_type": "stream",
     "text": [
      "TRAIN ACCURACY: 0.8931\n"
     ]
    }
   ],
   "source": [
    "model.eval()\n",
    "right_answers = 0\n",
    "answers = []\n",
    "for batch_x, batch_y in DataLoader(vocab_train_dataset, batch_size=32):\n",
    "    predictions = model(batch_x).argmax(dim=1)\n",
    "    answers.extend(map(lambda x: idx_to_nationalities[int(x)], predictions))\n",
    "    right_answers += (torch.eq(batch_y, predictions)).sum()\n",
    "\n",
    "print(f'TRAIN ACCURACY: {right_answers / len(vocab_train_dataset):0.4f}')"
   ],
   "metadata": {
    "collapsed": false
   }
  },
  {
   "cell_type": "code",
   "execution_count": 30,
   "outputs": [
    {
     "name": "stdout",
     "output_type": "stream",
     "text": [
      "TEST ACCURACY: 0.7295\n"
     ]
    }
   ],
   "source": [
    "right_answers = 0\n",
    "answers = []\n",
    "for batch_x, batch_y in DataLoader(vocab_test_dataset, batch_size=32):\n",
    "    predictions = model(batch_x).argmax(dim=1)\n",
    "    answers.extend(map(lambda x: idx_to_nationalities[int(x)], predictions))\n",
    "    right_answers += (torch.eq(batch_y, predictions)).sum()\n",
    "\n",
    "print(f'TEST ACCURACY: {right_answers / len(vocab_test_dataset):0.4f}')"
   ],
   "metadata": {
    "collapsed": false
   }
  },
  {
   "cell_type": "code",
   "execution_count": 31,
   "outputs": [],
   "source": [
    "nationalities_tests = [idx_to_nationalities[int(dataset_testing[i][1])] for i in range(len(dataset_testing))]"
   ],
   "metadata": {
    "collapsed": false
   }
  },
  {
   "cell_type": "code",
   "execution_count": 32,
   "outputs": [
    {
     "data": {
      "image/png": "[encoded data removed]"
     },
     "metadata": {},
     "output_type": "display_data"
    }
   ],
   "source": [
    "fig = px.histogram(pd.Series(nationalities_tests, name='Тестовые данные'), histnorm='probability')\n",
    "fig.add_histogram(x=answers, histnorm='probability', opacity=0.5, name='Предсказания')\n",
    "fig.update_layout(barmode='overlay')\n",
    "fig.show(renderer='png', width=1000)"
   ],
   "metadata": {
    "collapsed": false
   }
  },
  {
   "cell_type": "code",
   "execution_count": 33,
   "outputs": [],
   "source": [
    "def tokenize_surname(surname: str) -> torch.LongTensor:\n",
    "    \"\"\"\n",
    "    Токенизирует фамилию\n",
    "\n",
    "    :param surname: фамилия строкой\n",
    "    :return:\n",
    "    \"\"\"\n",
    "    dataset = SurnamesDataset(None, None, vocab)\n",
    "    return dataset.vectorize(surname).reshape(1, MAX_SURNAME_LEN).long()"
   ],
   "metadata": {
    "collapsed": false
   }
  },
  {
   "cell_type": "code",
   "execution_count": 21,
   "outputs": [
    {
     "data": {
      "text/plain": "tensor([[ 0,  0,  0,  0,  0,  0,  0,  0, 25, 23,  7, 25, 23,  7, 55, 50, 38]])"
     },
     "execution_count": 21,
     "metadata": {},
     "output_type": "execute_result"
    }
   ],
   "source": [
    "tokenize_surname('barbarich')"
   ],
   "metadata": {
    "collapsed": false
   }
  },
  {
   "cell_type": "code",
   "execution_count": 35,
   "outputs": [
    {
     "name": "stdout",
     "output_type": "stream",
     "text": [
      "+  Barbarich \t REAL:    Russian \t MODEL: Russian\n",
      "-     Akhmad \t REAL:     Arabic \t MODEL: English\n",
      "+       Tsoi \t REAL:     Korean \t MODEL: Korean\n",
      "+  Arakelyan \t REAL:    Russian \t MODEL: Russian\n",
      "- Plastinina \t REAL:    Russian \t MODEL: Italian\n",
      "+     Frolov \t REAL:    Russian \t MODEL: Russian\n",
      "-  Geraskina \t REAL:    Russian \t MODEL: Spanish\n",
      "-       Phan \t REAL: Vietnamese \t MODEL: Chinese\n"
     ]
    }
   ],
   "source": [
    "our_surnames = {\n",
    "    'Barbarich': 'Russian',\n",
    "    'Akhmad': 'Arabic',\n",
    "    'Tsoi': 'Korean',\n",
    "    'Arakelyan': 'Russian',\n",
    "    'Plastinina': 'Russian',\n",
    "    'Frolov': 'Russian',\n",
    "    'Geraskina': 'Russian',\n",
    "    'Phan': 'Vietnamese'\n",
    "}\n",
    "\n",
    "for surname, nationality in our_surnames.items():\n",
    "    model_nat = idx_to_nationalities[int(model(tokenize_surname(surname)).argmax(dim=1))]\n",
    "    if model_nat == nationality:\n",
    "        flag = '+'\n",
    "    else:\n",
    "        flag = '-'\n",
    "\n",
    "    print(f'{flag} {surname.capitalize():>10} \\t REAL: {nationality:>10} \\t MODEL: {model_nat}')\n"
   ],
   "metadata": {
    "collapsed": false
   }
  },
  {
   "cell_type": "code",
   "execution_count": 212,
   "outputs": [],
   "source": [
    "idx_to_nationalities[int(model(tokenize_surname('dutskaya')).argmax(dim=1))]"
   ],
   "metadata": {
    "collapsed": false
   }
  },
  {
   "cell_type": "markdown",
   "metadata": {
    "id": "PLmDB3fJtVox"
   },
   "source": [
    "## 3. Классификация обзоров ресторанов\n",
    "\n",
    "Датасет: https://disk.yandex.ru/d/nY1o70JtAuYa8g\n",
    "\n",
    "3.1 Считать файл `yelp/raw_train.csv`. Оставить от исходного датасета 10% строчек.\n",
    "\n",
    "3.2 Воспользоваться функцией `preprocess_text` из 1.1 для обработки текста отзыва. Закодировать рейтинг числами, начиная с 0.\n",
    "\n",
    "3.3 Разбить датасет на обучающую и тестовую выборку\n",
    "\n",
    "3.4 Реализовать класс `Vocab` (токен = слово)\n",
    "\n",
    "3.5 Реализовать класс `ReviewDataset`\n",
    "\n",
    "3.6 Обучить классификатор\n",
    "\n",
    "3.7 Измерить точность на тестовой выборке. Проверить работоспособность модели: придумать небольшой отзыв, прогнать его через модель и вывести номер предсказанного класса (сделать это для явно позитивного и явно негативного отзыва)\n"
   ]
  },
  {
   "cell_type": "code",
   "execution_count": 232,
   "outputs": [
    {
     "data": {
      "text/plain": "        rating                                             review\n402762       2  Stopped into eat while attending the 2011 iron...\n68324        1  Worst.\\n\\nTwice we called for a Yellow Cab, on...\n498872       1  Raw wings. Yummmm. When we reported it to the ...\n528042       2  We were provided samples of several flavors of...\n302874       1  This doesn't even warrant the time to write a ...",
      "text/html": "<div>\n<style scoped>\n    .dataframe tbody tr th:only-of-type {\n        vertical-align: middle;\n    }\n\n    .dataframe tbody tr th {\n        vertical-align: top;\n    }\n\n    .dataframe thead th {\n        text-align: right;\n    }\n</style>\n<table border=\"1\" class=\"dataframe\">\n  <thead>\n    <tr style=\"text-align: right;\">\n      <th></th>\n      <th>rating</th>\n      <th>review</th>\n    </tr>\n  </thead>\n  <tbody>\n    <tr>\n      <th>402762</th>\n      <td>2</td>\n      <td>Stopped into eat while attending the 2011 iron...</td>\n    </tr>\n    <tr>\n      <th>68324</th>\n      <td>1</td>\n      <td>Worst.\\n\\nTwice we called for a Yellow Cab, on...</td>\n    </tr>\n    <tr>\n      <th>498872</th>\n      <td>1</td>\n      <td>Raw wings. Yummmm. When we reported it to the ...</td>\n    </tr>\n    <tr>\n      <th>528042</th>\n      <td>2</td>\n      <td>We were provided samples of several flavors of...</td>\n    </tr>\n    <tr>\n      <th>302874</th>\n      <td>1</td>\n      <td>This doesn't even warrant the time to write a ...</td>\n    </tr>\n  </tbody>\n</table>\n</div>"
     },
     "execution_count": 232,
     "metadata": {},
     "output_type": "execute_result"
    }
   ],
   "source": [
    "# 3.1\n",
    "\n",
    "reviews_tr = pd.read_csv('data/raw_train.csv', names=['rating', 'review']).sample(frac=0.1, random_state=21)\n",
    "reviews_tr.head()"
   ],
   "metadata": {
    "collapsed": false
   }
  },
  {
   "cell_type": "code",
   "execution_count": 233,
   "outputs": [
    {
     "data": {
      "text/plain": "2    28119\n1    27881\nName: rating, dtype: int64"
     },
     "execution_count": 233,
     "metadata": {},
     "output_type": "execute_result"
    }
   ],
   "source": [
    "reviews_tr.rating.value_counts()"
   ],
   "metadata": {
    "collapsed": false
   }
  },
  {
   "cell_type": "code",
   "execution_count": 234,
   "outputs": [
    {
     "data": {
      "text/plain": "   rating                                             review\n0       1  stopped into eat while attending the      iron...\n1       0  worst. n ntwice we called for a yellow cab, on...\n2       0  raw wings. yummmm. when we reported it to the ...\n3       1  we were provided samples of several flavors of...\n4       0  this doesn t even warrant the time to write a ...",
      "text/html": "<div>\n<style scoped>\n    .dataframe tbody tr th:only-of-type {\n        vertical-align: middle;\n    }\n\n    .dataframe tbody tr th {\n        vertical-align: top;\n    }\n\n    .dataframe thead th {\n        text-align: right;\n    }\n</style>\n<table border=\"1\" class=\"dataframe\">\n  <thead>\n    <tr style=\"text-align: right;\">\n      <th></th>\n      <th>rating</th>\n      <th>review</th>\n    </tr>\n  </thead>\n  <tbody>\n    <tr>\n      <th>0</th>\n      <td>1</td>\n      <td>stopped into eat while attending the      iron...</td>\n    </tr>\n    <tr>\n      <th>1</th>\n      <td>0</td>\n      <td>worst. n ntwice we called for a yellow cab, on...</td>\n    </tr>\n    <tr>\n      <th>2</th>\n      <td>0</td>\n      <td>raw wings. yummmm. when we reported it to the ...</td>\n    </tr>\n    <tr>\n      <th>3</th>\n      <td>1</td>\n      <td>we were provided samples of several flavors of...</td>\n    </tr>\n    <tr>\n      <th>4</th>\n      <td>0</td>\n      <td>this doesn t even warrant the time to write a ...</td>\n    </tr>\n  </tbody>\n</table>\n</div>"
     },
     "execution_count": 234,
     "metadata": {},
     "output_type": "execute_result"
    }
   ],
   "source": [
    "# 3.2\n",
    "\n",
    "reviews_tr = reviews_tr.reset_index(drop=True)\n",
    "reviews_tr.rating -= 1\n",
    "reviews_tr.review = reviews_tr.review.apply(preprocess_text)\n",
    "reviews_tr.head()"
   ],
   "metadata": {
    "collapsed": false
   }
  },
  {
   "cell_type": "code",
   "execution_count": 235,
   "outputs": [],
   "source": [
    "# 3.3\n",
    "\n",
    "rev_train, rev_valid = train_test_split(reviews_tr, test_size=0.2)"
   ],
   "metadata": {
    "collapsed": false
   }
  },
  {
   "cell_type": "code",
   "metadata": {
    "id": "_lCTSKZgu68K"
   },
   "source": [
    "# 3.4\n",
    "\n",
    "wnl = WordNetLemmatizer()\n",
    "\n",
    "\n",
    "class Vocab:\n",
    "    def __init__(self, data: pd.Series):\n",
    "        _word_bag = set()\n",
    "        for sent in tqdm(data.review):\n",
    "            sent = set(map(wnl.lemmatize, word_tokenize(sent)))\n",
    "            _word_bag |= sent\n",
    "\n",
    "        self.idx_to_token = dict(zip(range(1, len(_word_bag) + 1), _word_bag))\n",
    "\n",
    "        self.token_to_idx = {v: u for u, v in self.idx_to_token.items()}\n",
    "        self.vocab_len = len(self.idx_to_token)\n",
    "\n",
    "\n",
    "vocab_review = Vocab(reviews_tr)"
   ],
   "execution_count": 223,
   "outputs": [
    {
     "name": "stderr",
     "output_type": "stream",
     "text": [
      "100%|██████████| 56000/56000 [00:46<00:00, 1210.29it/s]\n"
     ]
    }
   ]
  },
  {
   "cell_type": "code",
   "execution_count": 224,
   "outputs": [
    {
     "data": {
      "text/plain": "(66520, 'orgasmic')"
     },
     "execution_count": 224,
     "metadata": {},
     "output_type": "execute_result"
    }
   ],
   "source": [
    "vocab_review.vocab_len, vocab_review.idx_to_token[1]"
   ],
   "metadata": {
    "collapsed": false
   }
  },
  {
   "cell_type": "code",
   "metadata": {
    "id": "WXLmCDvcvRmb"
   },
   "source": [
    "# 3.5\n",
    "class ReviewDataset(Dataset):\n",
    "    def __init__(self, x: pd.Series, y: pd.Series, _vocab: Vocab):\n",
    "        self.x: np.ndarray = x.values\n",
    "        self.y: np.ndarray = y.values\n",
    "        self.vocab = _vocab\n",
    "\n",
    "    def vectorize(self, review: str):\n",
    "        \"\"\" Генерирует представление отзыва review при помощи бинарного кодирования (см. 1.2) \"\"\"\n",
    "\n",
    "        output_tensor = torch.zeros(1, self.vocab.vocab_len)\n",
    "        for word in word_tokenize(review):\n",
    "            word = wnl.lemmatize(word)\n",
    "\n",
    "            if word in vocab.token_to_idx:\n",
    "                output_tensor[0, vocab.token_to_idx[word]] = 1\n",
    "\n",
    "        return output_tensor\n",
    "\n",
    "    def __len__(self):\n",
    "        return len(self.x)\n",
    "\n",
    "    def __getitem__(self, idx):\n",
    "        x = self.vectorize(self.x[idx])\n",
    "        return x, torch.tensor(self.y[idx]).long()"
   ],
   "execution_count": 236,
   "outputs": []
  },
  {
   "cell_type": "code",
   "execution_count": 237,
   "outputs": [
    {
     "data": {
      "text/plain": "(tensor([[0., 0., 0.,  ..., 0., 0., 0.]]), tensor(1))"
     },
     "execution_count": 237,
     "metadata": {},
     "output_type": "execute_result"
    }
   ],
   "source": [
    "test = ReviewDataset(rev_valid.review, rev_valid.rating, vocab_review)\n",
    "test[1]"
   ],
   "metadata": {
    "collapsed": false
   }
  },
  {
   "cell_type": "code",
   "execution_count": 238,
   "outputs": [
    {
     "data": {
      "text/plain": "tensor([[ 0.0111, -0.0239],\n        [ 0.0107, -0.0245]], grad_fn=<AddmmBackward0>)"
     },
     "execution_count": 238,
     "metadata": {},
     "output_type": "execute_result"
    }
   ],
   "source": [
    "# 3.6\n",
    "\n",
    "kernels = [1, 32, 32, 64, 64, 128, 128] # , 256, 256]\n",
    "convs = torch.nn.Sequential()\n",
    "for i in range(len(kernels) - 1):\n",
    "    convs.add_module(f'conv {i}', torch.nn.Conv1d(kernels[i], kernels[i + 1], 3))\n",
    "    convs.add_module(f'pooling {i}', torch.nn.MaxPool1d(3))\n",
    "    convs.add_module(f'func {i}', torch.nn.LeakyReLU(0.1))\n",
    "\n",
    "model = torch.nn.Sequential(\n",
    "    torch.nn.Flatten(),\n",
    "    torch.nn.Linear(66520, 1024),\n",
    "    torch.nn.ReLU(),\n",
    "    torch.nn.Linear(1024, 2)\n",
    ")\n",
    "\n",
    "model(next(iter(DataLoader(test, batch_size=2)))[0])"
   ],
   "metadata": {
    "collapsed": false
   }
  },
  {
   "cell_type": "code",
   "execution_count": 239,
   "outputs": [],
   "source": [
    "review_train_ds = ReviewDataset(rev_train.review, rev_train.rating, vocab_review)\n",
    "review_valid_ds = ReviewDataset(rev_valid.review, rev_valid.rating, vocab_review)"
   ],
   "metadata": {
    "collapsed": false
   }
  },
  {
   "cell_type": "code",
   "execution_count": 240,
   "outputs": [
    {
     "name": "stdout",
     "output_type": "stream",
     "text": [
      "EPOCH:   1 \t LOSS: 0.6710 \t VAL LOSS: 0.6701\n",
      "EPOCH:   2 \t LOSS: 0.6689 \t VAL LOSS: 0.6673\n",
      "EPOCH:   3 \t LOSS: 0.6691 \t VAL LOSS: 0.6672\n"
     ]
    },
    {
     "ename": "KeyboardInterrupt",
     "evalue": "",
     "output_type": "error",
     "traceback": [
      "\u001B[0;31m---------------------------------------------------------------------------\u001B[0m",
      "\u001B[0;31mKeyboardInterrupt\u001B[0m                         Traceback (most recent call last)",
      "Input \u001B[0;32mIn [240]\u001B[0m, in \u001B[0;36m<cell line: 7>\u001B[0;34m()\u001B[0m\n\u001B[1;32m     12\u001B[0m model\u001B[38;5;241m.\u001B[39mtrain()\n\u001B[1;32m     13\u001B[0m \u001B[38;5;28;01mfor\u001B[39;00m j, (batch_x, batch_y) \u001B[38;5;129;01min\u001B[39;00m \u001B[38;5;28menumerate\u001B[39m(DataLoader(review_train_ds, batch_size\u001B[38;5;241m=\u001B[39m\u001B[38;5;241m64\u001B[39m, shuffle\u001B[38;5;241m=\u001B[39m\u001B[38;5;28;01mTrue\u001B[39;00m), \u001B[38;5;241m1\u001B[39m):\n\u001B[0;32m---> 14\u001B[0m     y_pred \u001B[38;5;241m=\u001B[39m \u001B[43mmodel\u001B[49m\u001B[43m(\u001B[49m\u001B[43mbatch_x\u001B[49m\u001B[43m)\u001B[49m\n\u001B[1;32m     15\u001B[0m     running_loss \u001B[38;5;241m=\u001B[39m loss(y_pred, batch_y)\n\u001B[1;32m     16\u001B[0m     epoch_loss \u001B[38;5;241m+\u001B[39m\u001B[38;5;241m=\u001B[39m running_loss\u001B[38;5;241m.\u001B[39mitem()\n",
      "File \u001B[0;32m~/pytorch-test/env/lib/python3.8/site-packages/torch/nn/modules/module.py:1130\u001B[0m, in \u001B[0;36mModule._call_impl\u001B[0;34m(self, *input, **kwargs)\u001B[0m\n\u001B[1;32m   1126\u001B[0m \u001B[38;5;66;03m# If we don't have any hooks, we want to skip the rest of the logic in\u001B[39;00m\n\u001B[1;32m   1127\u001B[0m \u001B[38;5;66;03m# this function, and just call forward.\u001B[39;00m\n\u001B[1;32m   1128\u001B[0m \u001B[38;5;28;01mif\u001B[39;00m \u001B[38;5;129;01mnot\u001B[39;00m (\u001B[38;5;28mself\u001B[39m\u001B[38;5;241m.\u001B[39m_backward_hooks \u001B[38;5;129;01mor\u001B[39;00m \u001B[38;5;28mself\u001B[39m\u001B[38;5;241m.\u001B[39m_forward_hooks \u001B[38;5;129;01mor\u001B[39;00m \u001B[38;5;28mself\u001B[39m\u001B[38;5;241m.\u001B[39m_forward_pre_hooks \u001B[38;5;129;01mor\u001B[39;00m _global_backward_hooks\n\u001B[1;32m   1129\u001B[0m         \u001B[38;5;129;01mor\u001B[39;00m _global_forward_hooks \u001B[38;5;129;01mor\u001B[39;00m _global_forward_pre_hooks):\n\u001B[0;32m-> 1130\u001B[0m     \u001B[38;5;28;01mreturn\u001B[39;00m \u001B[43mforward_call\u001B[49m\u001B[43m(\u001B[49m\u001B[38;5;241;43m*\u001B[39;49m\u001B[38;5;28;43minput\u001B[39;49m\u001B[43m,\u001B[49m\u001B[43m \u001B[49m\u001B[38;5;241;43m*\u001B[39;49m\u001B[38;5;241;43m*\u001B[39;49m\u001B[43mkwargs\u001B[49m\u001B[43m)\u001B[49m\n\u001B[1;32m   1131\u001B[0m \u001B[38;5;66;03m# Do not call functions when jit is used\u001B[39;00m\n\u001B[1;32m   1132\u001B[0m full_backward_hooks, non_full_backward_hooks \u001B[38;5;241m=\u001B[39m [], []\n",
      "File \u001B[0;32m~/pytorch-test/env/lib/python3.8/site-packages/torch/nn/modules/container.py:139\u001B[0m, in \u001B[0;36mSequential.forward\u001B[0;34m(self, input)\u001B[0m\n\u001B[1;32m    137\u001B[0m \u001B[38;5;28;01mdef\u001B[39;00m \u001B[38;5;21mforward\u001B[39m(\u001B[38;5;28mself\u001B[39m, \u001B[38;5;28minput\u001B[39m):\n\u001B[1;32m    138\u001B[0m     \u001B[38;5;28;01mfor\u001B[39;00m module \u001B[38;5;129;01min\u001B[39;00m \u001B[38;5;28mself\u001B[39m:\n\u001B[0;32m--> 139\u001B[0m         \u001B[38;5;28minput\u001B[39m \u001B[38;5;241m=\u001B[39m \u001B[43mmodule\u001B[49m\u001B[43m(\u001B[49m\u001B[38;5;28;43minput\u001B[39;49m\u001B[43m)\u001B[49m\n\u001B[1;32m    140\u001B[0m     \u001B[38;5;28;01mreturn\u001B[39;00m \u001B[38;5;28minput\u001B[39m\n",
      "File \u001B[0;32m~/pytorch-test/env/lib/python3.8/site-packages/torch/nn/modules/module.py:1130\u001B[0m, in \u001B[0;36mModule._call_impl\u001B[0;34m(self, *input, **kwargs)\u001B[0m\n\u001B[1;32m   1126\u001B[0m \u001B[38;5;66;03m# If we don't have any hooks, we want to skip the rest of the logic in\u001B[39;00m\n\u001B[1;32m   1127\u001B[0m \u001B[38;5;66;03m# this function, and just call forward.\u001B[39;00m\n\u001B[1;32m   1128\u001B[0m \u001B[38;5;28;01mif\u001B[39;00m \u001B[38;5;129;01mnot\u001B[39;00m (\u001B[38;5;28mself\u001B[39m\u001B[38;5;241m.\u001B[39m_backward_hooks \u001B[38;5;129;01mor\u001B[39;00m \u001B[38;5;28mself\u001B[39m\u001B[38;5;241m.\u001B[39m_forward_hooks \u001B[38;5;129;01mor\u001B[39;00m \u001B[38;5;28mself\u001B[39m\u001B[38;5;241m.\u001B[39m_forward_pre_hooks \u001B[38;5;129;01mor\u001B[39;00m _global_backward_hooks\n\u001B[1;32m   1129\u001B[0m         \u001B[38;5;129;01mor\u001B[39;00m _global_forward_hooks \u001B[38;5;129;01mor\u001B[39;00m _global_forward_pre_hooks):\n\u001B[0;32m-> 1130\u001B[0m     \u001B[38;5;28;01mreturn\u001B[39;00m \u001B[43mforward_call\u001B[49m\u001B[43m(\u001B[49m\u001B[38;5;241;43m*\u001B[39;49m\u001B[38;5;28;43minput\u001B[39;49m\u001B[43m,\u001B[49m\u001B[43m \u001B[49m\u001B[38;5;241;43m*\u001B[39;49m\u001B[38;5;241;43m*\u001B[39;49m\u001B[43mkwargs\u001B[49m\u001B[43m)\u001B[49m\n\u001B[1;32m   1131\u001B[0m \u001B[38;5;66;03m# Do not call functions when jit is used\u001B[39;00m\n\u001B[1;32m   1132\u001B[0m full_backward_hooks, non_full_backward_hooks \u001B[38;5;241m=\u001B[39m [], []\n",
      "File \u001B[0;32m~/pytorch-test/env/lib/python3.8/site-packages/torch/nn/modules/linear.py:114\u001B[0m, in \u001B[0;36mLinear.forward\u001B[0;34m(self, input)\u001B[0m\n\u001B[1;32m    113\u001B[0m \u001B[38;5;28;01mdef\u001B[39;00m \u001B[38;5;21mforward\u001B[39m(\u001B[38;5;28mself\u001B[39m, \u001B[38;5;28minput\u001B[39m: Tensor) \u001B[38;5;241m-\u001B[39m\u001B[38;5;241m>\u001B[39m Tensor:\n\u001B[0;32m--> 114\u001B[0m     \u001B[38;5;28;01mreturn\u001B[39;00m \u001B[43mF\u001B[49m\u001B[38;5;241;43m.\u001B[39;49m\u001B[43mlinear\u001B[49m\u001B[43m(\u001B[49m\u001B[38;5;28;43minput\u001B[39;49m\u001B[43m,\u001B[49m\u001B[43m \u001B[49m\u001B[38;5;28;43mself\u001B[39;49m\u001B[38;5;241;43m.\u001B[39;49m\u001B[43mweight\u001B[49m\u001B[43m,\u001B[49m\u001B[43m \u001B[49m\u001B[38;5;28;43mself\u001B[39;49m\u001B[38;5;241;43m.\u001B[39;49m\u001B[43mbias\u001B[49m\u001B[43m)\u001B[49m\n",
      "\u001B[0;31mKeyboardInterrupt\u001B[0m: "
     ]
    }
   ],
   "source": [
    "optimizer = torch.optim.Adam(model.parameters(), weight_decay=0.001)\n",
    "loss = torch.nn.CrossEntropyLoss()\n",
    "loss_log = []\n",
    "loss_log_val = []\n",
    "min_val_loss = 10 ** 10\n",
    "\n",
    "for i in range(50):\n",
    "    epoch_loss = 0\n",
    "    epoch_loss_val = 0\n",
    "    j, k = 1, 1  # Делители running losses\n",
    "\n",
    "    model.train()\n",
    "    for j, (batch_x, batch_y) in enumerate(DataLoader(review_train_ds, batch_size=64, shuffle=True), 1):\n",
    "        y_pred = model(batch_x)\n",
    "        running_loss = loss(y_pred, batch_y)\n",
    "        epoch_loss += running_loss.item()\n",
    "\n",
    "        running_loss.backward()\n",
    "        optimizer.step()\n",
    "        optimizer.zero_grad()\n",
    "\n",
    "    model.eval()\n",
    "    for k, (batch_x, batch_y) in enumerate(DataLoader(review_valid_ds, batch_size=64, shuffle=True), 1):\n",
    "        y_pred = model(batch_x)\n",
    "        running_loss = loss(y_pred, batch_y)\n",
    "        epoch_loss_val += running_loss.item()\n",
    "\n",
    "    epoch_loss /= j\n",
    "    epoch_loss_val /= k\n",
    "\n",
    "    if epoch_loss_val < min_val_loss:\n",
    "        torch.save(model.state_dict(), 'models/surname_model.pt')\n",
    "\n",
    "    if i % 1 == 0:\n",
    "        print(f'EPOCH: {i + 1:3d} \\t LOSS: {epoch_loss:0.4f} \\t VAL LOSS: {epoch_loss_val:0.4f}')\n",
    "\n",
    "    loss_log.append(epoch_loss)\n",
    "    loss_log_val.append(epoch_loss_val)\n",
    "\n",
    "model.load_state_dict(torch.load('models/surname_model.pt'))"
   ],
   "metadata": {
    "collapsed": false
   }
  },
  {
   "cell_type": "code",
   "execution_count": null,
   "outputs": [],
   "source": [
    "model(next(iter(DataLoader(test, batch_size=2)))[0])\n"
   ],
   "metadata": {
    "collapsed": false
   }
  },
  {
   "cell_type": "code",
   "execution_count": null,
   "outputs": [],
   "source": [],
   "metadata": {
    "collapsed": false
   }
  }
 ]
}
