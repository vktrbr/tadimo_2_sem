{
 "cells": [
  {
   "cell_type": "code",
   "execution_count": 24,
   "metadata": {
    "colab": {
     "base_uri": "https://localhost:8080/"
    },
    "executionInfo": {
     "elapsed": 1555,
     "status": "ok",
     "timestamp": 1620559384949,
     "user": {
      "displayName": "Никита Блохин",
      "photoUrl": "",
      "userId": "16402972581398673009"
     },
     "user_tz": -180
    },
    "id": "zKMq7dp2W15Y",
    "outputId": "50cd1b72-e83f-4aa7-d553-533bf1961802"
   },
   "outputs": [
    {
     "name": "stderr",
     "output_type": "stream",
     "text": [
      "[nltk_data] Downloading package punkt to\n",
      "[nltk_data]     /Users/victorbarbarich/nltk_data...\n",
      "[nltk_data]   Package punkt is already up-to-date!\n"
     ]
    },
    {
     "data": {
      "text/plain": "True"
     },
     "execution_count": 24,
     "metadata": {},
     "output_type": "execute_result"
    }
   ],
   "source": [
    "import nltk\n",
    "import re\n",
    "import numpy as np\n",
    "import pandas as pd\n",
    "import plotly.express as px\n",
    "import torch\n",
    "from torch.utils.data import Dataset, DataLoader\n",
    "\n",
    "nltk.download('punkt')\n"
   ]
  },
  {
   "cell_type": "markdown",
   "source": [
    "## 1. Генерирование русских имен при помощи RNN"
   ],
   "metadata": {
    "collapsed": false
   }
  },
  {
   "cell_type": "markdown",
   "source": [
    "Датасет: https://disk.yandex.ru/i/2yt18jHUgVEoIw\n",
    "\n",
    "1.1 На основе файла name_rus.txt создайте датасет.\n",
    "  * Учтите, что имена могут иметь различную длину\n",
    "  * Добавьте 4 специальных токена:\n",
    "    * `<PAD>` для дополнения последовательности до нужной длины;\n",
    "    * `<UNK>` для корректной обработки ранее не встречавшихся токенов;\n",
    "    * `<SOS>` для обозначения начала последовательности;\n",
    "    * `<EOS>` для обозначения конца последовательности.\n",
    "  * Преобразовывайте строку в последовательность индексов с учетом следующих замечаний:\n",
    "    * в начало последовательности добавьте токен `<SOS>`;\n",
    "    * в конец последовательности добавьте токен `<EOS>` и, при необходимости, несколько токенов `<PAD>`;\n",
    "  * `Dataset.__get_item__` возращает две последовательности: последовательность для обучения и правильный ответ.\n",
    "\n",
    "  Пример:\n",
    "  ```\n",
    "  s = 'The cat sat on the mat'\n",
    "  # преобразуем в индексы\n",
    "  s_idx = [2, 5, 1, 2, 8, 4, 7, 3, 0, 0]\n",
    "  # получаем x и y (__getitem__)\n",
    "  x = [2, 5, 1, 2, 8, 4, 7, 3, 0]\n",
    "  y = [5, 1, 2, 8, 4, 7, 3, 0, 0]\n",
    "  ```\n",
    "\n",
    "1.2 Создайте и обучите модель для генерации фамилии.\n",
    "\n",
    "  * Для преобразования последовательности индексов в последовательность векторов используйте `nn.Embedding`;\n",
    "  * Используйте рекуррентные слои;\n",
    "  * Задача ставится как предсказание следующего токена в каждом примере из пакета для каждого момента времени. Т.е. в данный момент времени по текущей подстроке предсказывает следующий символ для данной строки (задача классификации);\n",
    "  * Примерная схема реализации метода `forward`:\n",
    "  ```\n",
    "    input_X: [batch_size x seq_len] -> nn.Embedding -> emb_X: [batch_size x seq_len x embedding_size]\n",
    "    emb_X: [batch_size x seq_len x embedding_size] -> nn.RNN -> output: [batch_size x seq_len x hidden_size]\n",
    "    output: [batch_size x seq_len x hidden_size] -> torch.Tensor.reshape -> output: [batch_size * seq_len x hidden_size]\n",
    "    output: [batch_size * seq_len x hidden_size] -> nn.Linear -> output: [batch_size * seq_len x vocab_size]\n",
    "  ```\n",
    "\n",
    "1.3 Напишите функцию, которая генерирует фамилию при помощи обученной модели:\n",
    "  * Построение начинается с последовательности единичной длины, состоящей из индекса токена `<SOS>`;\n",
    "  * Начальное скрытое состояние RNN `h_t = None`;\n",
    "  * В результате прогона последнего токена из построенной последовательности через модель получаете новое скрытое состояние `h_t` и распределение над всеми токенами из словаря;\n",
    "  * Выбираете 1 токен пропорционально вероятности и добавляете его в последовательность (можно воспользоваться `torch.multinomial`);\n",
    "  * Повторяете эти действия до тех пор, пока не сгенерирован токен `<EOS>` или не превышена максимальная длина последовательности.\n",
    "\n",
    "При обучении каждые `k` эпох генерируйте несколько фамилий и выводите их на экран."
   ],
   "metadata": {
    "collapsed": false
   }
  },
  {
   "cell_type": "code",
   "execution_count": 182,
   "outputs": [
    {
     "name": "stdout",
     "output_type": "stream",
     "text": [
      "      surname\n",
      "0     авдокея\n",
      "1     авдоким\n",
      "2      авдоня\n",
      "3    авдотька\n",
      "4  авдотьюшка\n",
      "\n",
      "[12 20 11 23 18  0]\n",
      "лукцса\n",
      "[34, 12, 20, 11, 23, 18, 0, 33, 33, 33, 33, 33, 33, 33, 35]\n",
      "лукцса\n"
     ]
    }
   ],
   "source": [
    "# 1.1\n",
    "data = pd.read_csv('data/name_rus.txt', encoding='cp1251', header=None, names=['surname'])\n",
    "print(data.head())\n",
    "\n",
    "\n",
    "class Vocab():\n",
    "    def __init__(self, _data):\n",
    "        self.max_surname_len = _data.surname.str.len().max()\n",
    "        self.token_to_id = {}\n",
    "        self.id_to_token = {}\n",
    "        self.tech = ['<PAD>', '<SOS>', '<EOS>', '<UNK>']\n",
    "        self.build_vocab(list('абвгдеёжзийклмнопрстуфхцчшщъыьэюя'))\n",
    "        self.vocab_size = len(self.token_to_id)\n",
    "\n",
    "    def build_vocab(self, letters):\n",
    "        self.token_to_id = {token: idx for idx, token in enumerate(letters + self.tech)}\n",
    "        self.id_to_token = {idx: token for token, idx in self.token_to_id.items()}\n",
    "\n",
    "    def __len__(self):\n",
    "        return self.vocab_size\n",
    "\n",
    "    def __getitem__(self, token):\n",
    "        return self.token_to_id[token]\n",
    "\n",
    "    def __contains__(self, token):\n",
    "        return token in self.token_to_id\n",
    "\n",
    "    def to_tokens(self, ids):\n",
    "        # объединим id в одну строку\n",
    "        ids_sub = []\n",
    "        for idx in ids:\n",
    "            if self.id_to_token[int(idx)] not in self.tech:\n",
    "                ids_sub.append(self.id_to_token[int(idx)])\n",
    "\n",
    "        return ''.join(ids_sub)\n",
    "\n",
    "    def to_ids(self, tokens):\n",
    "        out = [self.token_to_id['<SOS>']] + [self.token_to_id['<PAD>']] * self.max_surname_len\n",
    "        for i, token in enumerate(tokens, 1):\n",
    "            if token not in self.token_to_id:\n",
    "                out[i] = self.token_to_id['<UNK>']\n",
    "            else:\n",
    "                out[i] = self.token_to_id[token]\n",
    "        out.append(self.token_to_id['<EOS>'])\n",
    "        return out\n",
    "\n",
    "\n",
    "vocab = Vocab(data)\n",
    "np.random.seed(21 * 3)\n",
    "\n",
    "test_tokens = np.random.randint(0, 32, 6)\n",
    "print('\\n', test_tokens, sep='')\n",
    "print(vocab.to_tokens(test_tokens))\n",
    "print(vocab.to_ids(vocab.to_tokens(test_tokens)))\n",
    "print(vocab.to_tokens((vocab.to_ids(vocab.to_tokens(test_tokens)))))"
   ],
   "metadata": {
    "collapsed": false
   }
  },
  {
   "cell_type": "code",
   "execution_count": 183,
   "outputs": [
    {
     "name": "stdout",
     "output_type": "stream",
     "text": [
      "tensor([34,  0,  2,  4, 15, 11,  5, 32, 33, 33, 33, 33, 33, 33]) tensor([ 0,  2,  4, 15, 11,  5, 32, 33, 33, 33, 33, 33, 33, 35])\n",
      "авдокея\n",
      "авдокея\n"
     ]
    }
   ],
   "source": [
    "class SurnameDataset(Dataset):\n",
    "\n",
    "    def __init__(self, _data, _vocab):\n",
    "        self.data = _data\n",
    "        self.vocab = _vocab\n",
    "\n",
    "    def __len__(self):\n",
    "        return len(self.data)\n",
    "\n",
    "    def __getitem__(self, idx):\n",
    "        _x = self.vocab.to_ids(self.data.surname.iloc[idx])\n",
    "        return torch.tensor(_x[:-1]), torch.tensor(_x[1:])\n",
    "\n",
    "\n",
    "dataset = SurnameDataset(data, vocab)\n",
    "x, y = next(iter(dataset))\n",
    "print(x, y)\n",
    "print(vocab.to_tokens(x))\n",
    "print(vocab.to_tokens(y))\n"
   ],
   "metadata": {
    "collapsed": false
   }
  },
  {
   "cell_type": "code",
   "execution_count": 623,
   "outputs": [],
   "source": [
    "class MyModelRNN(torch.nn.Module):\n",
    "\n",
    "    def __init__(self, _vocab: Vocab, embedding_size, hidden_size):\n",
    "        super(MyModelRNN, self).__init__()\n",
    "        self.embedding = torch.nn.Embedding(_vocab.vocab_size, embedding_size)\n",
    "        self.rnn = torch.nn.RNN(embedding_size, hidden_size, batch_first=True)\n",
    "        self.fc = torch.nn.Linear(hidden_size, 1024)\n",
    "        self.fc2 = torch.nn.Linear(1024, _vocab.vocab_size)\n",
    "        self.f = torch.nn.Sigmoid()\n",
    "        self.dropout = torch.nn.Dropout(0.25)\n",
    "        self.vocab = _vocab\n",
    "\n",
    "    def forward(self, x, h=None):\n",
    "        x = self.embedding(x)\n",
    "        x, h = self.rnn(x, h)\n",
    "        x = self.dropout(self.fc(x))\n",
    "        x = self.fc2(self.f(x))\n",
    "        return x, h"
   ],
   "metadata": {
    "collapsed": false
   }
  },
  {
   "cell_type": "code",
   "execution_count": 624,
   "outputs": [
    {
     "name": "stdout",
     "output_type": "stream",
     "text": [
      "(tensor([[[-0.1583, -0.1754, -0.0687,  ...,  0.5027,  0.4576,  0.2481],\n",
      "         [-0.0879, -0.0688, -0.1442,  ...,  0.5764,  0.4303,  0.2866],\n",
      "         [-0.1290, -0.1791, -0.0865,  ...,  0.5599,  0.4204,  0.2351],\n",
      "         ...,\n",
      "         [-0.0469, -0.1686, -0.0987,  ...,  0.5607,  0.5378,  0.1993],\n",
      "         [-0.0599, -0.0944, -0.1398,  ...,  0.5910,  0.5559,  0.2506],\n",
      "         [-0.1634, -0.1016, -0.1126,  ...,  0.4382,  0.4248,  0.2616]],\n",
      "\n",
      "        [[-0.1352, -0.1613, -0.1342,  ...,  0.5043,  0.5104,  0.2488],\n",
      "         [-0.0357, -0.0236, -0.0962,  ...,  0.5583,  0.4774,  0.2994],\n",
      "         [-0.0011, -0.0983, -0.0771,  ...,  0.4263,  0.4676,  0.3169],\n",
      "         ...,\n",
      "         [-0.0387, -0.1488, -0.1440,  ...,  0.5926,  0.5473,  0.2543],\n",
      "         [-0.1131, -0.1269, -0.1109,  ...,  0.5977,  0.5364,  0.2170],\n",
      "         [-0.1290, -0.1142, -0.1508,  ...,  0.4518,  0.4052,  0.2350]]],\n",
      "       grad_fn=<ViewBackward0>), tensor([[[-0.6351, -0.8441, -0.4356,  0.7489, -0.7070,  0.7037, -0.9311,\n",
      "          -0.2147,  0.7258,  0.2863,  0.5741, -0.8725, -0.9143,  0.7342,\n",
      "           0.3007,  0.5152, -0.4420,  0.6842, -0.4460, -0.8757,  0.2633,\n",
      "           0.7469, -0.0954, -0.6709,  0.6011,  0.0998,  0.6145,  0.4787,\n",
      "          -0.5084, -0.4980, -0.5604, -0.7700, -0.4940,  0.5034,  0.9300,\n",
      "           0.0943,  0.7553, -0.6745, -0.4980, -0.9876, -0.8362,  0.6147,\n",
      "          -0.1532, -0.1521,  0.1517, -0.9354, -0.0818,  0.2400,  0.9717,\n",
      "           0.3678,  0.7090,  0.1778,  0.0066, -0.9071,  0.3807, -0.3090,\n",
      "          -0.3944,  0.9907, -0.3735, -0.0203, -0.3282,  0.5255,  0.5213,\n",
      "           0.8043,  0.2183,  0.3280,  0.8383,  0.0024, -0.3126,  0.1534,\n",
      "           0.5271,  0.6895, -0.2072, -0.2774,  0.7852,  0.2118, -0.3856,\n",
      "          -0.9223,  0.6306, -0.4514,  0.0918, -0.6107,  0.5458, -0.5564,\n",
      "           0.5460, -0.0160,  0.3392, -0.4862, -0.4686, -0.7201,  0.9582,\n",
      "          -0.5003,  0.1982, -0.3682, -0.8381, -0.3075,  0.5417,  0.3115,\n",
      "          -0.3716,  0.0293, -0.2843,  0.9146,  0.5481, -0.9243,  0.8096,\n",
      "          -0.4862,  0.6490, -0.3450,  0.1841,  0.1246,  0.5039, -0.3005,\n",
      "          -0.8536,  0.8488, -0.3470,  0.4615, -0.3944,  0.3472, -0.2064,\n",
      "          -0.9761,  0.7228, -0.1395, -0.3690,  0.1801,  0.7398, -0.9306,\n",
      "           0.6753,  0.1692],\n",
      "         [-0.6354, -0.8445, -0.4329,  0.7489, -0.7059,  0.7032, -0.9311,\n",
      "          -0.2147,  0.7252,  0.2861,  0.5758, -0.8730, -0.9144,  0.7340,\n",
      "           0.2999,  0.5151, -0.4420,  0.6837, -0.4471, -0.8760,  0.2624,\n",
      "           0.7470, -0.0955, -0.6699,  0.5994,  0.0997,  0.6136,  0.4795,\n",
      "          -0.5084, -0.4989, -0.5610, -0.7692, -0.4950,  0.5047,  0.9301,\n",
      "           0.0946,  0.7546, -0.6747, -0.4988, -0.9876, -0.8355,  0.6149,\n",
      "          -0.1514, -0.1523,  0.1532, -0.9354, -0.0811,  0.2404,  0.9718,\n",
      "           0.3676,  0.7094,  0.1770,  0.0073, -0.9068,  0.3820, -0.3095,\n",
      "          -0.3957,  0.9906, -0.3722, -0.0202, -0.3305,  0.5259,  0.5216,\n",
      "           0.8054,  0.2183,  0.3276,  0.8382,  0.0045, -0.3133,  0.1543,\n",
      "           0.5269,  0.6902, -0.2082, -0.2766,  0.7857,  0.2111, -0.3868,\n",
      "          -0.9220,  0.6301, -0.4504,  0.0921, -0.6103,  0.5457, -0.5568,\n",
      "           0.5467, -0.0161,  0.3393, -0.4860, -0.4679, -0.7198,  0.9581,\n",
      "          -0.5010,  0.1970, -0.3685, -0.8384, -0.3061,  0.5408,  0.3110,\n",
      "          -0.3709,  0.0293, -0.2846,  0.9146,  0.5465, -0.9240,  0.8101,\n",
      "          -0.4865,  0.6500, -0.3464,  0.1837,  0.1240,  0.5035, -0.2998,\n",
      "          -0.8534,  0.8487, -0.3477,  0.4626, -0.3942,  0.3471, -0.2064,\n",
      "          -0.9762,  0.7230, -0.1412, -0.3692,  0.1800,  0.7396, -0.9307,\n",
      "           0.6742,  0.1683]]], grad_fn=<StackBackward0>))\n"
     ]
    },
    {
     "data": {
      "text/plain": "torch.Size([2, 15, 37])"
     },
     "execution_count": 624,
     "metadata": {},
     "output_type": "execute_result"
    }
   ],
   "source": [
    "model = MyModelRNN(vocab, 256, 128)\n",
    "print(model(torch.tensor([vocab.to_ids(name) for name in ['виктор', 'егор']])))\n",
    "model(torch.tensor([vocab.to_ids(name) for name in ['виктор', 'егор']]))[0].shape"
   ],
   "metadata": {
    "collapsed": false
   }
  },
  {
   "cell_type": "code",
   "execution_count": 625,
   "outputs": [
    {
     "data": {
      "text/plain": "'в'"
     },
     "execution_count": 625,
     "metadata": {},
     "output_type": "execute_result"
    }
   ],
   "source": [
    "def sample_next(model, x, prev_state, topk=5, uniform=True):\n",
    "    out, state = model(x, prev_state)\n",
    "    last_out = out[0, -1, :]\n",
    "    topk = topk if topk else last_out.shape[0]\n",
    "    top_logit, top_ix = torch.topk(last_out, k=topk, dim=-1)\n",
    "    p = None if uniform else torch.nn.functional.softmax(top_logit.detach(), dim=-1).numpy()\n",
    "    sampled_ix = np.random.choice(top_ix, p=p)\n",
    "    return sampled_ix, state\n",
    "\n",
    "\n",
    "def sample(model, start_letters, topk=5, uniform=False, max_seqlen=15, stop_on=None):\n",
    "    model.eval()\n",
    "    with torch.no_grad():\n",
    "        sampled_ix_list = start_letters[:]\n",
    "        x = torch.tensor([start_letters])\n",
    "\n",
    "        prev_state = None\n",
    "        for t in range(max_seqlen - len(start_letters)):\n",
    "            sampled_ix, prev_state = sample_next(model, x, prev_state, topk, uniform)\n",
    "\n",
    "            sampled_ix_list.append(sampled_ix)\n",
    "            x = torch.tensor([[sampled_ix]])\n",
    "\n",
    "            if sampled_ix == stop_on:\n",
    "                break\n",
    "\n",
    "    model.train()\n",
    "    return sampled_ix_list\n",
    "\n",
    "\n",
    "vocab.to_tokens(sample(model, [2], stop_on=vocab.token_to_id['<EOS>']))"
   ],
   "metadata": {
    "collapsed": false
   }
  },
  {
   "cell_type": "code",
   "execution_count": 626,
   "outputs": [
    {
     "name": "stdout",
     "output_type": "stream",
     "text": [
      "EPOCH:   1 \t LOSS: 3.6692\n",
      "Викт --->  | викт | виктаа | викта\n",
      "EPOCH:  26 \t LOSS: 1.5651\n",
      "Викт --->  | викта | виктуста | викта\n",
      "EPOCH:  51 \t LOSS: 1.4023\n",
      "Викт --->  | викта | виктюша | викта\n",
      "EPOCH:  76 \t LOSS: 1.2222\n",
      "Викт --->  | виктинка | виктава | виктиника\n"
     ]
    }
   ],
   "source": [
    "def train(_model: torch.nn.Module, epochs=100):\n",
    "    optimizer = torch.optim.Adam(_model.parameters())\n",
    "    loss = torch.nn.CrossEntropyLoss()\n",
    "    loss_log = []\n",
    "    loader = DataLoader(dataset, batch_size=512)\n",
    "    for i in range(epochs):\n",
    "        epoch_loss = 0\n",
    "        j = 1  # Делители running losses\n",
    "        _model.train()\n",
    "        for j, (batch_x, batch_y) in enumerate(loader):\n",
    "            y_pred = _model(batch_x)\n",
    "            running_loss = loss(y_pred[0].reshape(-1, vocab.vocab_size), batch_y.reshape(-1))\n",
    "            epoch_loss += running_loss.item()\n",
    "\n",
    "            running_loss.backward()\n",
    "            optimizer.step()\n",
    "            optimizer.zero_grad()\n",
    "\n",
    "        _model.eval()\n",
    "        epoch_loss /= j\n",
    "\n",
    "        if i % 25 == 0:\n",
    "            print(f'EPOCH: {i + 1:3d} \\t LOSS: {epoch_loss:0.4f}')\n",
    "\n",
    "            eos = vocab.token_to_id['<EOS>']\n",
    "            start = vocab.to_ids('викт')[1:5]\n",
    "            samples = [vocab.to_tokens(sample(model, start, stop_on=eos)) for _ in range(3)]\n",
    "            print('Викт ---> ', *samples, sep=' | ')\n",
    "\n",
    "        loss_log.append(epoch_loss)\n",
    "\n",
    "    return _model, loss_log\n",
    "\n",
    "\n",
    "model, loss_log = train(model, epochs=76)"
   ],
   "metadata": {
    "collapsed": false
   }
  },
  {
   "cell_type": "code",
   "execution_count": 627,
   "outputs": [
    {
     "data": {
      "image/png": "[encoded data removed]"
     },
     "metadata": {},
     "output_type": "display_data"
    }
   ],
   "source": [
    "px.line(pd.DataFrame({'train loss': loss_log})).show(renderer='png', width=1000)"
   ],
   "metadata": {
    "collapsed": false
   }
  },
  {
   "cell_type": "code",
   "execution_count": 628,
   "outputs": [
    {
     "name": "stdout",
     "output_type": "stream",
     "text": [
      "Викт --->  | викта | виктьюня | викта | викта | виктана | викта | виктий | викта | викта | викта\n"
     ]
    }
   ],
   "source": [
    "eos = vocab.token_to_id['<EOS>']\n",
    "start = vocab.to_ids('викт')[1:5]\n",
    "samples = [vocab.to_tokens(sample(model, start, stop_on=eos)) for _ in range(10)]\n",
    "print('Викт ---> ', *samples, sep=' | ')"
   ],
   "metadata": {
    "collapsed": false
   }
  },
  {
   "cell_type": "markdown",
   "metadata": {
    "id": "fJf5iaA2fOTM"
   },
   "source": [
    "## 2. Генерирование текста при помощи RNN\n",
    "\n",
    "2.1 Скачайте из интернета какое-нибудь художественное произведение\n",
    "  * Выбирайте достаточно крупное произведение, чтобы модель лучше обучалась;\n",
    "\n",
    "2.2 На основе выбранного произведения создайте датасет. \n",
    "\n",
    "Отличия от задачи 1:\n",
    "  * Токены <SOS>, `<EOS>` и `<UNK>` можно не добавлять;\n",
    "  * При создании датасета текст необходимо предварительно разбить на части. Выберите желаемую длину последовательности `seq_len` и разбейте текст на построки длины `seq_len` (можно без перекрытия, можно с небольшим перекрытием).\n",
    "\n",
    "2.3 Создайте и обучите модель для генерации текста\n",
    "  * Задача ставится точно так же как в 1.2;\n",
    "  * При необходимости можете применить:\n",
    "    * двухуровневые рекуррентные слои (`num_layers`=2)\n",
    "    * [обрезку градиентов](https://pytorch.org/docs/stable/generated/torch.nn.utils.clip_grad_norm_.html)\n",
    "\n",
    "2.4 Напишите функцию, которая генерирует фрагмент текста при помощи обученной модели\n",
    "  * Процесс генерации начинается с небольшого фрагмента текста `prime`, выбранного вами (1-2 слова) \n",
    "  * Сначала вы пропускаете через модель токены из `prime` и генерируете на их основе скрытое состояние рекуррентного слоя `h_t`;\n",
    "  * После этого вы генерируете строку нужной длины аналогично 1.3\n"
   ]
  },
  {
   "cell_type": "code",
   "execution_count": 48,
   "outputs": [
    {
     "data": {
      "text/plain": "['александр', 'сергеевич', 'пушкин']"
     },
     "execution_count": 48,
     "metadata": {},
     "output_type": "execute_result"
    }
   ],
   "source": [
    "with open('./data/dubrovskiy.txt', encoding='cp1251') as file:\n",
    "    text = file.read()\n",
    "\n",
    "text = nltk.word_tokenize(re.sub(r'[^A-Z]', '', text.lower(), -1), 'russian')\n",
    "text[:3]"
   ],
   "metadata": {
    "collapsed": false
   }
  },
  {
   "cell_type": "code",
   "execution_count": 50,
   "outputs": [
    {
     "name": "stderr",
     "output_type": "stream",
     "text": [
      "                                             \r"
     ]
    },
    {
     "name": "stdout",
     "output_type": "stream",
     "text": [
      "Epoch: 1, Loss: 35.2681\n",
      "  иного мир качал решительность подвиг никому дороги фуражке опустела проворчала бесчувственность пойти похороны приличного полагаюсь \n"
     ]
    },
    {
     "name": "stderr",
     "output_type": "stream",
     "text": [
      "                                             \r"
     ]
    },
    {
     "name": "stdout",
     "output_type": "stream",
     "text": [
      "Epoch: 6, Loss: 27.0131\n",
      "  замечено фитиль от прижавшегося дала отправлены проворство отличалась конурке статься молодость долгое виновником куста возвращалась \n"
     ]
    },
    {
     "name": "stderr",
     "output_type": "stream",
     "text": [
      "                                             \r"
     ]
    },
    {
     "name": "stdout",
     "output_type": "stream",
     "text": [
      "Epoch: 11, Loss: 26.7882\n",
      "  вкусу повелительным отворил спрятать злодеями ступайте место свою заяц разбранил весело расспрашивая ахти давали быв \n"
     ]
    },
    {
     "name": "stderr",
     "output_type": "stream",
     "text": [
      "                                             \r"
     ]
    },
    {
     "name": "stdout",
     "output_type": "stream",
     "text": [
      "Epoch: 16, Loss: 26.7490\n",
      "  въехал приказывала географии шкурку андрею вился обратно кириловны учителем картинах поселился героиня прошел следствия общего \n"
     ]
    },
    {
     "name": "stderr",
     "output_type": "stream",
     "text": [
      "                                             \r"
     ]
    },
    {
     "name": "stdout",
     "output_type": "stream",
     "text": [
      "Epoch: 21, Loss: 26.7422\n",
      "  твердили -тут предрассудках важно противу законные спустит утопить побежали твоем собачьем честолюбив определиться ревом дворню \n"
     ]
    },
    {
     "name": "stderr",
     "output_type": "stream",
     "text": [
      "                                             \r"
     ]
    },
    {
     "name": "stdout",
     "output_type": "stream",
     "text": [
      "Epoch: 26, Loss: 26.7394\n",
      "  поклон твое родился гостей вынести лекарем пробовать вошел некоторое говором мошенничество позвал залу покойник неподвижен \n"
     ]
    },
    {
     "name": "stderr",
     "output_type": "stream",
     "text": [
      "                                             \r"
     ]
    },
    {
     "name": "stdout",
     "output_type": "stream",
     "text": [
      "Epoch: 31, Loss: 26.7345\n",
      "  прекратил пушками избавить внимания новой регламента сведем удивительного дочери начиналась дамы фонтанами шел скончался большим \n"
     ]
    },
    {
     "name": "stderr",
     "output_type": "stream",
     "text": [
      "                                             \r"
     ]
    },
    {
     "name": "stdout",
     "output_type": "stream",
     "text": [
      "Epoch: 36, Loss: 26.7239\n",
      "  коли широкая это лучше кладбище должны тараса сено приятно оказывать сходствовали миша по нашего просунул \n"
     ]
    },
    {
     "name": "stderr",
     "output_type": "stream",
     "text": [
      "                                             \r"
     ]
    },
    {
     "name": "stdout",
     "output_type": "stream",
     "text": [
      "Epoch: 41, Loss: 26.7037\n",
      "  запоздалой отпуске помянутого молодцу застать надлежало андреевича волнением слугу понравился ямщик взглянул продано умереть ногою \n"
     ]
    },
    {
     "name": "stderr",
     "output_type": "stream",
     "text": [
      "                                             \r"
     ]
    },
    {
     "name": "stdout",
     "output_type": "stream",
     "text": [
      "Epoch: 46, Loss: 26.6686\n",
      "  9 например маскированного личным знала разошлись грабительства ободранного раны беспокоился несчастном потемках дворовый что сотвори \n"
     ]
    },
    {
     "name": "stderr",
     "output_type": "stream",
     "text": [
      "                                             \r"
     ]
    }
   ],
   "source": [
    "from tqdm import tqdm\n",
    "\n",
    "\n",
    "class TextDataset(Dataset):\n",
    "\n",
    "    def __init__(self, text, seq_len):\n",
    "        self.text = text\n",
    "        self.seq_len = seq_len\n",
    "        self.tokens = list(set(text)) + [' ', '']\n",
    "        self.token_to_id = {token: idx for idx, token in enumerate(self.tokens)}\n",
    "        self.id_to_token = {idx: token for idx, token in enumerate(self.tokens)}\n",
    "        self.num_tokens = len(self.tokens)\n",
    "\n",
    "    def __len__(self):\n",
    "        return len(self.text) // self.seq_len\n",
    "\n",
    "    def __getitem__(self, idx):\n",
    "        start_idx = idx * self.seq_len\n",
    "        end_idx = start_idx + self.seq_len + 1\n",
    "        text_str = self.text[start_idx:end_idx]\n",
    "        text_encoded = [self.token_to_id[token] for token in text_str]\n",
    "        x = torch.tensor(text_encoded[:-1])\n",
    "        y = torch.tensor(text_encoded[1:])\n",
    "        return x, y\n",
    "\n",
    "    def decode(self, text_encoded):\n",
    "        out = ''\n",
    "        for idx in text_encoded:\n",
    "            if int(idx) in self.id_to_token.keys():\n",
    "                out += self.id_to_token[int(idx)]\n",
    "\n",
    "            out += ' '\n",
    "\n",
    "        return out\n",
    "\n",
    "    def encode(self, text):\n",
    "        out = []\n",
    "        for token in text:\n",
    "            if token in self.token_to_id:\n",
    "                out.append(self.token_to_id[token])\n",
    "            else:\n",
    "                out.append(self.token_to_id[' '])\n",
    "        return torch.tensor(out)\n",
    "\n",
    "    def collate_fn(self, batch):\n",
    "        x = torch.stack([item[0] for item in batch])\n",
    "        y = torch.stack([item[1] for item in batch])\n",
    "        return x, y\n",
    "\n",
    "    def generate_batch(self, batch_size, seq_len, device='cpu'):\n",
    "        while True:\n",
    "            x = torch.randint(self.num_tokens, (batch_size, seq_len), dtype=torch.long, device=device)\n",
    "            y = torch.randint(self.num_tokens, (batch_size, seq_len), dtype=torch.long, device=device)\n",
    "            yield x, y\n",
    "\n",
    "\n",
    "class RNN(torch.nn.Module):\n",
    "\n",
    "    def __init__(self, num_tokens, emb_size, rnn_num_units, num_layers=1, dropout=0.5):\n",
    "        super().__init__()\n",
    "        self.emb = torch.nn.Embedding(num_tokens, emb_size)\n",
    "        self.rnn = torch.nn.LSTM(emb_size, rnn_num_units, num_layers=num_layers, dropout=dropout)\n",
    "        self.hid_to_logits = torch.nn.Linear(rnn_num_units, num_tokens)\n",
    "\n",
    "    def forward(self, x):\n",
    "        x = self.emb(x)\n",
    "        x, _ = self.rnn(x)\n",
    "        x = self.hid_to_logits(x)\n",
    "        return x\n",
    "\n",
    "\n",
    "def generate_sample(model, dataset, prime_str=' ', sample_len=100):\n",
    "    model.eval()\n",
    "    with torch.no_grad():\n",
    "        x = dataset.encode(prime_str)\n",
    "        x = x[None, :].to(next(model.parameters()).device)\n",
    "        for _ in range(sample_len):\n",
    "            logits = model(x)\n",
    "            p_next = torch.nn.functional.softmax(logits[:, -1], dim=-1)\n",
    "            next_token = torch.multinomial(p_next, num_samples=1)\n",
    "            x = torch.cat([x, next_token], dim=1)\n",
    "        return dataset.decode(x[0].cpu())\n",
    "\n",
    "\n",
    "def train(model, dataset, num_epochs, batch_size, lr=1e-3, grad_clip=5, device='cpu'):\n",
    "\n",
    "    model.to(device)\n",
    "    optimizer = torch.optim.Adam(model.parameters(), lr=lr)\n",
    "    criterion = torch.nn.CrossEntropyLoss()\n",
    "    loader = DataLoader(dataset, batch_size=batch_size)\n",
    "\n",
    "    for epoch in range(num_epochs):\n",
    "        model.train()\n",
    "        epoch_loss = 0\n",
    "        for x, y in tqdm(loader, leave=False):\n",
    "            optimizer.zero_grad()\n",
    "            logits = model(x)\n",
    "            loss = criterion(logits.transpose(1, 2), y)\n",
    "            loss.backward()\n",
    "            epoch_loss += loss.item()\n",
    "            torch.nn.utils.clip_grad_norm_(model.parameters(), grad_clip)\n",
    "            optimizer.step()\n",
    "\n",
    "        if epoch % 5 == 0:\n",
    "            print(f'Epoch: {epoch + 1}, Loss: {epoch_loss:.4f}')\n",
    "            print(generate_sample(model, dataset, sample_len=dataset.seq_len))\n",
    "\n",
    "\n",
    "dataset = TextDataset(text, seq_len=15)\n",
    "model = RNN(num_tokens=dataset.num_tokens, emb_size=256, rnn_num_units=256, num_layers=3, dropout=0.25)\n",
    "train(model, dataset, num_epochs=50, batch_size=512)\n"
   ],
   "metadata": {
    "collapsed": false
   }
  },
  {
   "cell_type": "code",
   "execution_count": null,
   "outputs": [],
   "source": [],
   "metadata": {
    "collapsed": false
   }
  }
 ],
 "metadata": {
  "accelerator": "GPU",
  "colab": {
   "authorship_tag": "ABX9TyOt/b54+xoKtnmvuSlliKDY",
   "collapsed_sections": [],
   "name": "blank__08_rnn_generation.ipynb",
   "provenance": []
  },
  "kernelspec": {
   "display_name": "Python 3",
   "language": "python",
   "name": "python3"
  },
  "language_info": {
   "codemirror_mode": {
    "name": "ipython",
    "version": 3
   },
   "file_extension": ".py",
   "mimetype": "text/x-python",
   "name": "python",
   "nbconvert_exporter": "python",
   "pygments_lexer": "ipython3",
   "version": "3.7.6"
  }
 },
 "nbformat": 4,
 "nbformat_minor": 1
}
