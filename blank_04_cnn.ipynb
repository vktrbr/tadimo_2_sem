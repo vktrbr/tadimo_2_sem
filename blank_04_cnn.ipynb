{
 "cells": [
  {
   "cell_type": "code",
   "execution_count": 1,
   "metadata": {
    "id": "u49LZV9dKFWi"
   },
   "outputs": [],
   "source": [
    "import matplotlib.pyplot as plt\n",
    "from torchvision import datasets, transforms\n",
    "import torchvision\n",
    "import torch\n",
    "import torch.nn as nn\n",
    "import torch.optim as optim\n",
    "from torch.utils.data import DataLoader, random_split\n",
    "import torch.nn.functional as F"
   ]
  },
  {
   "cell_type": "markdown",
   "metadata": {
    "id": "403Mis3LAgED"
   },
   "source": [
    "## 1. Классификация предметов одежды (датасет Fashion MNIST)\n"
   ]
  },
  {
   "cell_type": "markdown",
   "metadata": {
    "id": "Mn6r8tMDQsaU"
   },
   "source": [
    "\n",
    "### 1.1 Решить задачу классификации, не используя сверточные слои. \n",
    "* Предложить архитектуру модели для решения задачи\n",
    "* Посчитать количество параметров модели.\n",
    "* Обучить модель\n",
    "* Вывести график функции потерь по эпохам. \n",
    "* Используя тестовое множество\n",
    "\n",
    "  * Продемонстрировать работу модели: вывести несколько изображений, указать над ними правильный класс и класс, предсказанный моделью. \n",
    "\n",
    "  * Вывести матрицу ошибок.\n",
    "\n",
    "  * Вывести значение accuracy на тестовом множестве.\n",
    "* Сохранить модель"
   ]
  },
  {
   "cell_type": "code",
   "execution_count": null,
   "outputs": [],
   "source": [],
   "metadata": {
    "collapsed": false
   }
  },
  {
   "cell_type": "markdown",
   "metadata": {
    "id": "GmsMQUPP-XUh"
   },
   "source": [
    "### 1.2 Решить задачу 1.1, используя сверточную нейронную сеть. \n",
    "* Добиться значения accuracy на тестовом множестве не менее 90%\n",
    "* Визуализировать результаты работы первого сверточного слоя"
   ]
  },
  {
   "cell_type": "markdown",
   "metadata": {
    "id": "cm6_9B3ZKLq9"
   },
   "source": [
    "##  2. Классификация изображений (датасет CIFAR 10) "
   ]
  },
  {
   "cell_type": "markdown",
   "metadata": {
    "id": "VNTZa9yWQvSF"
   },
   "source": [
    "\n",
    "### 2.1 Решить задачу классификации, не используя сверточные слои. \n",
    "\n",
    "* Нормализовать данные (если необходимо)\n",
    "* Предложить архитектуру модели для решения задачи\n",
    "* Посчитать количество параметров модели.\n",
    "* Обучить модель\n",
    "* Вывести график функции потерь по эпохам. \n",
    "* Используя тестовое множество\n",
    "\n",
    "  * Продемонстрировать работу модели: вывести несколько изображений, указать над ними правильный класс и класс, предсказанный моделью. \n",
    "\n",
    "  * Вывести матрицу ошибок.\n",
    "\n",
    "  * Вывести значение accuracy на тестовом множестве.\n",
    "* Сохранить модель"
   ]
  },
  {
   "cell_type": "markdown",
   "metadata": {
    "id": "IIxHLbKcDCFA"
   },
   "source": [
    "### 2.2 Решить задачу 2.1, используя сверточную нейронную сеть. \n",
    "* Добиться значения accuracy на тестовом множестве не менее 70%.\n",
    "* Визуализировать результаты работы первого сверточного слоя"
   ]
  },
  {
   "cell_type": "markdown",
   "metadata": {
    "id": "nPg8k4YTFOgc"
   },
   "source": [
    "## 3. Загрузка изображений из внешних источников"
   ]
  },
  {
   "cell_type": "markdown",
   "metadata": {
    "id": "1hLnpe_570wd"
   },
   "source": [
    "### 3.1 Решить задачу классификации обезьян (датасет [monkey.zip](https://disk.yandex.ru/d/OxYgY4S7aR6ulQ)).\n",
    "* Загрузить архив с данными на диск\n",
    "* Создать датасет на основе файлов при помощи `torchvision.datasets.ImageFolder`\n",
    "* Преобразовать изображения к тензорами одного размера (например, 400х400). Потестировать другие преобразования из `torchvision.transforms`\n",
    "* Предложить архитектуру модели для решения задачи. Обучить модель.\n",
    "* Используя тестовое множество\n",
    "\n",
    "  * Продемонстрировать работу модели: вывести несколько изображений, указать над ними правильный класс и класс, предсказанный моделью. \n",
    "\n",
    "  * Вывести матрицу ошибок.\n",
    "\n",
    "  * Вывести значение accuracy на тестовом множестве.\n",
    "  * Добиться значения accuracy на тестовом множестве не менее 60%"
   ]
  },
  {
   "cell_type": "code",
   "execution_count": null,
   "metadata": {
    "colab": {
     "base_uri": "https://localhost:8080/"
    },
    "executionInfo": {
     "elapsed": 506,
     "status": "ok",
     "timestamp": 1616695933807,
     "user": {
      "displayName": "Никита Блохин",
      "photoUrl": "",
      "userId": "16402972581398673009"
     },
     "user_tz": -180
    },
    "id": "iXnzblkFFN5K",
    "outputId": "cbbabfdc-a8c4-41c6-86a8-f7e99748a612"
   },
   "outputs": [
    {
     "name": "stdout",
     "output_type": "stream",
     "text": [
      "Drive already mounted at /content/drive; to attempt to forcibly remount, call drive.mount(\"/content/drive\", force_remount=True).\n"
     ]
    }
   ],
   "source": [
    "from google.colab import drive\n",
    "drive.mount('/content/drive')"
   ]
  },
  {
   "cell_type": "code",
   "execution_count": null,
   "metadata": {
    "colab": {
     "base_uri": "https://localhost:8080/"
    },
    "executionInfo": {
     "elapsed": 17268,
     "status": "ok",
     "timestamp": 1616695954172,
     "user": {
      "displayName": "Никита Блохин",
      "photoUrl": "",
      "userId": "16402972581398673009"
     },
     "user_tz": -180
    },
    "id": "4Er_FLV6Hrqq",
    "outputId": "5ece4316-16e6-458c-eb94-c0604e19ea24"
   },
   "outputs": [
    {
     "name": "stderr",
     "output_type": "stream",
     "text": [
      "100%|██████████| 1371/1371 [00:16<00:00, 81.74it/s]\n"
     ]
    }
   ],
   "source": [
    "import zipfile\n",
    "from tqdm import tqdm\n",
    "\n",
    "zf = zipfile.ZipFile('drive/MyDrive/datasets/monkeys.zip')\n",
    "for file in tqdm(zf.infolist()):\n",
    "    zf.extract(file)"
   ]
  },
  {
   "cell_type": "markdown",
   "metadata": {
    "id": "5-tMy4qJ9j1k"
   },
   "source": [
    "### 3.2 Решить задачу классификации собак и кошек (датасет [cats_dogs.zip](https://disk.yandex.ru/d/wQtt5O1JF9ctnA)).\n",
    "* Загрузить архив с данными на диск\n",
    "* Создать датасет на основе файлов при помощи `torchvision.datasets.ImageFolder`\n",
    "* Преобразовать изображения к тензорами одного размера (например, 400х400). Потестировать другие преобразования из `torchvision.transforms`\n",
    "* Предложить архитектуру модели для решения задачи. Обучить модель.\n",
    "* Используя тестовое множество\n",
    "\n",
    "  * Продемонстрировать работу модели: вывести несколько изображений, указать над ними правильный класс и класс, предсказанный моделью. \n",
    "\n",
    "  * Вывести матрицу ошибок.\n",
    "\n",
    "  * Вывести значение accuracy на тестовом множестве.\n",
    "  * Добиться значения accuracy на тестовом множестве не менее 80%"
   ]
  },
  {
   "cell_type": "markdown",
   "metadata": {
    "id": "EqvleAgxfC6B"
   },
   "source": [
    "# 4. Transfer Learning"
   ]
  },
  {
   "cell_type": "markdown",
   "metadata": {
    "id": "ZjNUwuho9tm9"
   },
   "source": [
    "### 4.1 Решить задачу 3.1, воспользовавшись предобученной моделью VGG16\n",
    "* Загрузить данные для обучения\n",
    "* Преобразования: размер 224x224, нормализация с параметрами `mean=(0.485, 0.456, 0.406), std=(0.229, 0.224, 0.225)`\n",
    "* Заменить последний полносвязный слой модели в соответствии с задачей\n",
    "* Дообучить модель (не замораживать веса). Вычислить значение accuracy на тестовом множестве\n",
    "* Дообучить модель (заморозить все веса, кроме последнего блока слоев (`classifier`)). \n",
    "* Вычислить значение accuracy на тестовом множестве.\n"
   ]
  },
  {
   "cell_type": "markdown",
   "metadata": {
    "id": "Dt_hXy5a5CE8"
   },
   "source": [
    "### 4.2 Решить задачу 3.2, воспользовавшись подходящей предобученной моделью\n",
    "* Не использовать VGG16 (вместо нее можно взять resnet18 или другую)\n",
    "* Загрузить данные для обучения\n",
    "* Преобразования: размер 224x224, нормализация с параметрами `mean=(0.485, 0.456, 0.406), std=(0.229, 0.224, 0.225)`\n",
    "* Заменить последний полносвязный слой модели в соответствии с задачей\n",
    "* Дообучить модель. \n",
    "* Вычислить значение accuracy на тестовом множестве (добиться значения не меньше 97-98%)"
   ]
  }
 ],
 "metadata": {
  "accelerator": "GPU",
  "colab": {
   "authorship_tag": "ABX9TyMF+zO/4VvRSXLWjIV8BHI2",
   "collapsed_sections": [],
   "name": "blank_04_cnn.ipynb",
   "provenance": [],
   "toc_visible": true
  },
  "kernelspec": {
   "display_name": "Python 3 (ipykernel)",
   "language": "python",
   "name": "python3"
  },
  "language_info": {
   "codemirror_mode": {
    "name": "ipython",
    "version": 3
   },
   "file_extension": ".py",
   "mimetype": "text/x-python",
   "name": "python",
   "nbconvert_exporter": "python",
   "pygments_lexer": "ipython3",
   "version": "3.9.13"
  }
 },
 "nbformat": 4,
 "nbformat_minor": 1
}
